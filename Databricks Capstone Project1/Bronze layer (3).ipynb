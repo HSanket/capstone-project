{
 "cells": [
  {
   "cell_type": "markdown",
   "metadata": {
    "application/vnd.databricks.v1+cell": {
     "cellMetadata": {
      "byteLimit": 2048000,
      "rowLimit": 10000
     },
     "inputWidgets": {},
     "nuid": "5d37e279-7935-4d98-8434-a48107679e54",
     "showTitle": false,
     "title": ""
    }
   },
   "source": [
    "####Reading data from customer table "
   ]
  },
  {
   "cell_type": "code",
   "execution_count": 0,
   "metadata": {
    "application/vnd.databricks.v1+cell": {
     "cellMetadata": {
      "byteLimit": 2048000,
      "rowLimit": 10000
     },
     "inputWidgets": {},
     "nuid": "28fad19b-4a6e-4d6d-b9bb-d7acc8d60b6d",
     "showTitle": false,
     "title": ""
    }
   },
   "outputs": [],
   "source": [
    "customer_df = spark.read.format(\"delta\").load(\"dbfs:/FileStore/capstone/customerr_tbl/\")"
   ]
  },
  {
   "cell_type": "markdown",
   "metadata": {
    "application/vnd.databricks.v1+cell": {
     "cellMetadata": {
      "byteLimit": 2048000,
      "rowLimit": 10000
     },
     "inputWidgets": {},
     "nuid": "73cd9ac4-71b7-408f-8897-b5550b991ef5",
     "showTitle": false,
     "title": ""
    }
   },
   "source": [
    "####Reading data from branches table\n"
   ]
  },
  {
   "cell_type": "code",
   "execution_count": 0,
   "metadata": {
    "application/vnd.databricks.v1+cell": {
     "cellMetadata": {
      "byteLimit": 2048000,
      "rowLimit": 10000
     },
     "inputWidgets": {},
     "nuid": "7f0dd9e2-0e36-43ba-8eec-7f33545fefc5",
     "showTitle": false,
     "title": ""
    }
   },
   "outputs": [],
   "source": [
    "branches_df = spark.read.format(\"delta\").load(\"dbfs:/FileStore/capstone/branches_tbl/\")"
   ]
  },
  {
   "cell_type": "markdown",
   "metadata": {
    "application/vnd.databricks.v1+cell": {
     "cellMetadata": {
      "byteLimit": 2048000,
      "rowLimit": 10000
     },
     "inputWidgets": {},
     "nuid": "7d5c736f-5f33-4bae-b81e-c5dfd02223b0",
     "showTitle": false,
     "title": ""
    }
   },
   "source": [
    "####Writing data into bronze tables"
   ]
  },
  {
   "cell_type": "code",
   "execution_count": 0,
   "metadata": {
    "application/vnd.databricks.v1+cell": {
     "cellMetadata": {
      "byteLimit": 2048000,
      "rowLimit": 10000
     },
     "inputWidgets": {},
     "nuid": "13c04d72-b4c8-4a13-911c-895d6ec17ffd",
     "showTitle": false,
     "title": ""
    }
   },
   "outputs": [],
   "source": [
    "\n",
    "customer_df.write.mode('overwrite').saveAsTable(\"bronze.Customer_tbl\")\n",
    "branches_df.write.mode('overwrite').saveAsTable(\"bronze.Branches_tbl\")"
   ]
  },
  {
   "cell_type": "markdown",
   "metadata": {
    "application/vnd.databricks.v1+cell": {
     "cellMetadata": {
      "byteLimit": 2048000,
      "rowLimit": 10000
     },
     "inputWidgets": {},
     "nuid": "73e71ae2-d400-40f4-ad52-f4666976e4cf",
     "showTitle": false,
     "title": ""
    }
   },
   "source": [
    "###Reading streaming transaction data "
   ]
  },
  {
   "cell_type": "code",
   "execution_count": 0,
   "metadata": {
    "application/vnd.databricks.v1+cell": {
     "cellMetadata": {
      "byteLimit": 2048000,
      "rowLimit": 10000
     },
     "inputWidgets": {},
     "nuid": "3a6add0f-f684-4aec-9b1d-6a7b27f6dd56",
     "showTitle": false,
     "title": ""
    }
   },
   "outputs": [
    {
     "output_type": "stream",
     "name": "stdout",
     "output_type": "stream",
     "text": [
      "Batch for epoch 0 processed.\nBatch for epoch 1 processed.\nBatch for epoch 2 processed.\nBatch for epoch 3 processed.\nBatch for epoch 4 processed.\nBatch for epoch 5 processed.\n"
     ]
    },
    {
     "output_type": "display_data",
     "data": {
      "text/html": [
       "<style scoped>\n",
       "  .ansiout {\n",
       "    display: block;\n",
       "    unicode-bidi: embed;\n",
       "    white-space: pre-wrap;\n",
       "    word-wrap: break-word;\n",
       "    word-break: break-all;\n",
       "    font-family: \"Menlo\", \"Monaco\", \"Consolas\", \"Ubuntu Mono\", \"Source Code Pro\", monospace;\n",
       "    font-size: 13px;\n",
       "    color: #555;\n",
       "    margin-left: 4px;\n",
       "    line-height: 19px;\n",
       "  }\n",
       "</style>"
      ]
     },
     "metadata": {
      "application/vnd.databricks.v1+output": {
       "arguments": {},
       "data": "",
       "errorSummary": "Cancelled",
       "errorTraceType": "html",
       "metadata": {},
       "type": "ipynbError"
      }
     },
     "output_type": "display_data"
    }
   ],
   "source": [
    "from pyspark.sql import SparkSession\n",
    "\n",
    "spark = SparkSession.builder \\\n",
    "    .appName(\"Delta Stream Processing\") \\\n",
    "    .getOrCreate()\n",
    "\n",
    "inputPath = \"dbfs:/FileStore/capstone/txn_tbl/latest/\"\n",
    "checkpoint_location = \"dbfs:/FileStore/capstone/txn_tbl/checkpoint_location/\"\n",
    "\n",
    "# Read stream from Delta format\n",
    "streamingDF = spark.readStream.format(\"delta\").option(\"header\", \"true\").load(inputPath)\n",
    "\n",
    "def foreach_batch_function(df, epoch_id):\n",
    "    # Write to a Databricks Delta table\n",
    "    df.write.format(\"delta\").mode(\"append\").saveAsTable(\"bronze.txn_tbl\")\n",
    "    print(f\"Batch for epoch {epoch_id} processed.\")\n",
    "\n",
    "# Write stream using foreachBatch to continuously trigger\n",
    "query = streamingDF.writeStream.foreachBatch(foreach_batch_function).trigger(processingTime='10 seconds').option(\"checkpointLocation\", checkpoint_location).start()\n",
    "\n",
    "query.awaitTermination()\n"
   ]
  }
 ],
 "metadata": {
  "application/vnd.databricks.v1+notebook": {
   "dashboards": [],
   "environmentMetadata": null,
   "language": "python",
   "notebookMetadata": {
    "mostRecentlyExecutedCommandWithImplicitDF": {
     "commandId": 861678658377988,
     "dataframes": [
      "_sqldf"
     ]
    },
    "pythonIndentUnit": 2
   },
   "notebookName": "Bronze layer",
   "widgets": {}
  }
 },
 "nbformat": 4,
 "nbformat_minor": 0
}
